{
 "cells": [
  {
   "cell_type": "code",
   "execution_count": 1,
   "metadata": {},
   "outputs": [],
   "source": [
    "import pandas as pd\n",
    "\n",
    "df_basic = pd.read_csv('recipe_dataset/db/recipe_basic.csv', encoding=\"cp949\")\n",
    "tfidf_res = pd.read_csv(\"TF_IDF_data.csv\")"
   ]
  },
  {
   "cell_type": "code",
   "execution_count": 2,
   "metadata": {},
   "outputs": [],
   "source": [
    "temp_dict = {\"menu_1\": [],\n",
    "             \"url_1\": [],\n",
    "             \"menu_2\": [],\n",
    "             \"url_2\": [],\n",
    "             \"menu_3\": [],\n",
    "             \"url_3\": [],\n",
    "             \"menu_4\": [],\n",
    "             \"url_4\": [],\n",
    "             \"menu_5\": [],\n",
    "             \"url_5\": []}\n",
    "\n",
    "for target_menu in df_basic[\"RECIPE_NM_KO\"]:\n",
    "    temp = tfidf_res[tfidf_res[\"Recipe_ID\"] == target_menu].reset_index(drop = False)\n",
    "    \n",
    "    temp_dict[\"menu_1\"].append(temp[\"Similar_Recipe_ID\"][0])\n",
    "    temp_dict[\"url_1\"].append(temp[\"IMG_URL\"][0])\n",
    "    temp_dict[\"menu_2\"].append(temp[\"Similar_Recipe_ID\"][1])\n",
    "    temp_dict[\"url_2\"].append(temp[\"IMG_URL\"][1])\n",
    "    temp_dict[\"menu_3\"].append(temp[\"Similar_Recipe_ID\"][2])\n",
    "    temp_dict[\"url_3\"].append(temp[\"IMG_URL\"][2])\n",
    "    temp_dict[\"menu_4\"].append(temp[\"Similar_Recipe_ID\"][3])\n",
    "    temp_dict[\"url_4\"].append(temp[\"IMG_URL\"][3])\n",
    "    temp_dict[\"menu_5\"].append(temp[\"Similar_Recipe_ID\"][4])\n",
    "    temp_dict[\"url_5\"].append(temp[\"IMG_URL\"][4])"
   ]
  },
  {
   "cell_type": "code",
   "execution_count": 3,
   "metadata": {},
   "outputs": [],
   "source": [
    "join_df = pd.DataFrame(temp_dict)\n",
    "total_df = pd.concat([df_basic,join_df], axis=1)"
   ]
  },
  {
   "cell_type": "code",
   "execution_count": 4,
   "metadata": {},
   "outputs": [],
   "source": [
    "total_df.to_csv(\"total_2.csv\", index = False, encoding = \"utf-8-sig\")"
   ]
  },
  {
   "cell_type": "code",
   "execution_count": null,
   "metadata": {},
   "outputs": [],
   "source": []
  }
 ],
 "metadata": {
  "kernelspec": {
   "display_name": "Python 3",
   "language": "python",
   "name": "python3"
  },
  "language_info": {
   "codemirror_mode": {
    "name": "ipython",
    "version": 3
   },
   "file_extension": ".py",
   "mimetype": "text/x-python",
   "name": "python",
   "nbconvert_exporter": "python",
   "pygments_lexer": "ipython3",
   "version": "3.8.5"
  }
 },
 "nbformat": 4,
 "nbformat_minor": 4
}
