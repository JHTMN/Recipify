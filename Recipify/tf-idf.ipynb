{
 "cells": [
  {
   "cell_type": "code",
   "execution_count": 1,
   "metadata": {},
   "outputs": [],
   "source": [
    "import pandas as pd\n",
    "import numpy as np\n",
    "import sklearn\n",
    "from gensim import corpora\n",
    "from gensim import models\n",
    "from gensim import similarities\n",
    "from collections import Counter\n",
    "from sklearn.feature_extraction.text import TfidfVectorizer\n",
    "import heapq"
   ]
  },
  {
   "cell_type": "code",
   "execution_count": 45,
   "metadata": {},
   "outputs": [],
   "source": [
    "#df_ingre = pd.read_csv('recipe_dataset/recipe_ingre.csv')\n",
    "#df = df_ingre.drop_duplicates(subset = ['RECIPE_ID', 'IRDNT_NM'])\n",
    "#df.to_csv('recipe_dataset/recipe_ingre2.csv', encoding=\"utf-8-sig\")"
   ]
  },
  {
   "cell_type": "code",
   "execution_count": 2,
   "metadata": {},
   "outputs": [],
   "source": [
    "df_ingre = pd.read_csv('recipe_dataset/recipe_ingre.csv')\n",
    "df_basic = pd.read_csv('recipe_dataset/recipe_basic.csv', encoding=\"cp949\")\n",
    "\n",
    "df_tmp=df_ingre[['RECIPE_ID','IRDNT_NM']]\n",
    "df_tmp_arr=[[]for i in range(538)]\n",
    "num=0\n",
    "for i in df_tmp['IRDNT_NM'] :\n",
    "    df_tmp_arr[df_tmp['RECIPE_ID'][num]].append(i)\n",
    "    num+=1\n",
    "    \n",
    "df_tmp_arr.pop(0)\n",
    "num=0\n",
    "for i in df_tmp_arr :\n",
    "    df_tmp_arr[num] = list(set(df_tmp_arr[num]))\n",
    "    num+=1\n",
    "    \n",
    "ingre_dict = {}\n",
    "\n",
    "for i in range(1, 538, 1):\n",
    "    ingre_dict[str(i)] = df_tmp_arr[i-1]"
   ]
  },
  {
   "cell_type": "code",
   "execution_count": 3,
   "metadata": {},
   "outputs": [
    {
     "data": {
      "text/plain": [
       "537"
      ]
     },
     "execution_count": 3,
     "metadata": {},
     "output_type": "execute_result"
    }
   ],
   "source": [
    "len(ingre_dict)"
   ]
  },
  {
   "cell_type": "code",
   "execution_count": 4,
   "metadata": {
    "scrolled": true
   },
   "outputs": [],
   "source": [
    "bags_of_words = [ Counter(IRDNT_NM) for IRDNT_NM in df_tmp_arr ]"
   ]
  },
  {
   "cell_type": "code",
   "execution_count": 5,
   "metadata": {},
   "outputs": [
    {
     "data": {
      "text/plain": [
       "537"
      ]
     },
     "execution_count": 5,
     "metadata": {},
     "output_type": "execute_result"
    }
   ],
   "source": [
    "len(bags_of_words)"
   ]
  },
  {
   "cell_type": "code",
   "execution_count": 6,
   "metadata": {},
   "outputs": [],
   "source": [
    "#Find sum of every ingredient using Counter()\n",
    "sumbags = sum(bags_of_words, Counter())\n",
    "\n",
    "\n",
    "# Finally, plot the 10 most used ingredients\n",
    "clean_df = pd.DataFrame.from_dict(sumbags, orient='index').reset_index()\n",
    "clean_df = clean_df.rename(columns={'index':'ingredient', 0:'count'})\n",
    "\n",
    "top_ing = clean_df.sort_values('count', ascending=False)"
   ]
  },
  {
   "cell_type": "code",
   "execution_count": 7,
   "metadata": {},
   "outputs": [
    {
     "data": {
      "text/html": [
       "<div>\n",
       "<style scoped>\n",
       "    .dataframe tbody tr th:only-of-type {\n",
       "        vertical-align: middle;\n",
       "    }\n",
       "\n",
       "    .dataframe tbody tr th {\n",
       "        vertical-align: top;\n",
       "    }\n",
       "\n",
       "    .dataframe thead th {\n",
       "        text-align: right;\n",
       "    }\n",
       "</style>\n",
       "<table border=\"1\" class=\"dataframe\">\n",
       "  <thead>\n",
       "    <tr style=\"text-align: right;\">\n",
       "      <th></th>\n",
       "      <th>ingredient</th>\n",
       "      <th>count</th>\n",
       "    </tr>\n",
       "  </thead>\n",
       "  <tbody>\n",
       "    <tr>\n",
       "      <th>11</th>\n",
       "      <td>소금</td>\n",
       "      <td>332</td>\n",
       "    </tr>\n",
       "    <tr>\n",
       "      <th>7</th>\n",
       "      <td>간장</td>\n",
       "      <td>249</td>\n",
       "    </tr>\n",
       "    <tr>\n",
       "      <th>9</th>\n",
       "      <td>설탕</td>\n",
       "      <td>214</td>\n",
       "    </tr>\n",
       "    <tr>\n",
       "      <th>29</th>\n",
       "      <td>후춧가루</td>\n",
       "      <td>210</td>\n",
       "    </tr>\n",
       "    <tr>\n",
       "      <th>15</th>\n",
       "      <td>다진마늘</td>\n",
       "      <td>203</td>\n",
       "    </tr>\n",
       "    <tr>\n",
       "      <th>...</th>\n",
       "      <td>...</td>\n",
       "      <td>...</td>\n",
       "    </tr>\n",
       "    <tr>\n",
       "      <th>320</th>\n",
       "      <td>고들빼기</td>\n",
       "      <td>1</td>\n",
       "    </tr>\n",
       "    <tr>\n",
       "      <th>164</th>\n",
       "      <td>총각무</td>\n",
       "      <td>1</td>\n",
       "    </tr>\n",
       "    <tr>\n",
       "      <th>322</th>\n",
       "      <td>참나물</td>\n",
       "      <td>1</td>\n",
       "    </tr>\n",
       "    <tr>\n",
       "      <th>325</th>\n",
       "      <td>완두콩통조림</td>\n",
       "      <td>1</td>\n",
       "    </tr>\n",
       "    <tr>\n",
       "      <th>476</th>\n",
       "      <td>콩비지</td>\n",
       "      <td>1</td>\n",
       "    </tr>\n",
       "  </tbody>\n",
       "</table>\n",
       "<p>477 rows × 2 columns</p>\n",
       "</div>"
      ],
      "text/plain": [
       "    ingredient  count\n",
       "11          소금    332\n",
       "7           간장    249\n",
       "9           설탕    214\n",
       "29        후춧가루    210\n",
       "15        다진마늘    203\n",
       "..         ...    ...\n",
       "320       고들빼기      1\n",
       "164        총각무      1\n",
       "322        참나물      1\n",
       "325     완두콩통조림      1\n",
       "476        콩비지      1\n",
       "\n",
       "[477 rows x 2 columns]"
      ]
     },
     "execution_count": 7,
     "metadata": {},
     "output_type": "execute_result"
    }
   ],
   "source": [
    "top_ing"
   ]
  },
  {
   "cell_type": "code",
   "execution_count": 8,
   "metadata": {},
   "outputs": [],
   "source": [
    "ingr_only_dict = clean_df['ingredient'].to_dict()"
   ]
  },
  {
   "cell_type": "code",
   "execution_count": 9,
   "metadata": {},
   "outputs": [],
   "source": [
    "#Get all clean ingredients in list format per recipe\n",
    "ingr_list = []\n",
    "for IRDNT_NM in df_tmp_arr:\n",
    "    ingr_list.append(IRDNT_NM)"
   ]
  },
  {
   "cell_type": "code",
   "execution_count": 10,
   "metadata": {},
   "outputs": [
    {
     "data": {
      "text/plain": [
       "537"
      ]
     },
     "execution_count": 10,
     "metadata": {},
     "output_type": "execute_result"
    }
   ],
   "source": [
    "len(ingr_list)"
   ]
  },
  {
   "cell_type": "code",
   "execution_count": 11,
   "metadata": {},
   "outputs": [],
   "source": [
    "##Get clean ingredients to be used as an input for word2vec model to identify ingredient similarity.\n",
    "\n",
    "ingr_clean_df = pd.DataFrame({'Ingredient':ingr_list})"
   ]
  },
  {
   "cell_type": "code",
   "execution_count": 12,
   "metadata": {},
   "outputs": [],
   "source": [
    "#Create a dictionary for all the ingredients in the recipe list\n",
    "\n",
    "dictionary = corpora.Dictionary(ingr_list)"
   ]
  },
  {
   "cell_type": "code",
   "execution_count": 13,
   "metadata": {},
   "outputs": [],
   "source": [
    "#Applying doc2bow on the dictionary of ingredients, which converts the ingredient to a number in every recipe\n",
    "#This input format is needed for TfIdfmodel\n",
    "bow_corpus = [dictionary.doc2bow(text) for text in ingr_list]"
   ]
  },
  {
   "cell_type": "code",
   "execution_count": 14,
   "metadata": {},
   "outputs": [],
   "source": [
    "# train the model\n",
    "tfidf = models.TfidfModel(bow_corpus)"
   ]
  },
  {
   "cell_type": "code",
   "execution_count": 15,
   "metadata": {},
   "outputs": [],
   "source": [
    "corpus_tfidf = tfidf[bow_corpus]"
   ]
  },
  {
   "cell_type": "code",
   "execution_count": 16,
   "metadata": {},
   "outputs": [],
   "source": [
    "#Use similarities library from gensim to get the cosine similarity of the tfidf results\n",
    "\n",
    "index = similarities.MatrixSimilarity(tfidf[bow_corpus])\n",
    "index.save('ingr.index')\n",
    "index = similarities.MatrixSimilarity.load('ingr.index')\n",
    "\n",
    "sims = index[corpus_tfidf]\n",
    "sims_list = [(i,j) for i,j in enumerate(sims)]\n",
    "\n",
    "#Creating a list to hold the cosine similarity results for tfidf\n",
    "tf_idf_list = []\n",
    "\n",
    "for i,j in enumerate(sims_list):\n",
    "    tf_idf_list.append(sims_list[i][1])"
   ]
  },
  {
   "cell_type": "code",
   "execution_count": 17,
   "metadata": {
    "scrolled": true
   },
   "outputs": [],
   "source": [
    "#Create recipe dict- to be used in creating dataframe in next step - used to decode recipe id\n",
    "recipe_dict = {k: v for k, v in enumerate(df_basic.RECIPE_NM_KO)}"
   ]
  },
  {
   "cell_type": "code",
   "execution_count": 18,
   "metadata": {},
   "outputs": [],
   "source": [
    "#Use cosine similarity results to get the top 10 similar recipes for every recipe.\n",
    "tf_idf_top  = []\n",
    "similar_recipes_df = pd.DataFrame([])\n",
    "same_item = []\n",
    "\n",
    "#Get only top 11 largest values from the tf_idf_list - 1 recipe will be the same as itself (hence 12)\n",
    "for i,item in enumerate(tf_idf_list):\n",
    "    tf_idf_top.append(heapq.nlargest(11,enumerate(item), key=lambda x: x[1]))\n",
    "\n",
    "#Remove the recipe value with 1.0 similarity - since it is the same recipe\n",
    "for i,list_item in enumerate(tf_idf_top):\n",
    "    for j,k in enumerate(list_item):\n",
    "        if tf_idf_top[i][j][1] != 1.0:\n",
    "            similar_recipes_df = similar_recipes_df.append(pd.DataFrame({'Similar_Recipe_ID': recipe_dict.get(tf_idf_top[i][j][0]),'TF-IDF Value': tf_idf_top[i][j][1],'Recipe_ID': recipe_dict.get(i)}, index=[0]), ignore_index=True)"
   ]
  },
  {
   "cell_type": "code",
   "execution_count": 19,
   "metadata": {
    "scrolled": true
   },
   "outputs": [],
   "source": [
    "similar_recipes_df = similar_recipes_df[similar_recipes_df['Recipe_ID'] != similar_recipes_df['Similar_Recipe_ID']]"
   ]
  },
  {
   "cell_type": "code",
   "execution_count": 20,
   "metadata": {},
   "outputs": [],
   "source": [
    "#Create cosine similarity matrix for all recipes 27637*27637\n",
    "#Since this is a huge matrix, the top 10 similar recipe logic is a better option.\n",
    "\n",
    "names = [i for i in range(1,len(tf_idf_list))]\n",
    "final_df = pd.DataFrame.from_dict(zip(names,tf_idf_list))"
   ]
  },
  {
   "cell_type": "code",
   "execution_count": 21,
   "metadata": {},
   "outputs": [
    {
     "data": {
      "text/html": [
       "<div>\n",
       "<style scoped>\n",
       "    .dataframe tbody tr th:only-of-type {\n",
       "        vertical-align: middle;\n",
       "    }\n",
       "\n",
       "    .dataframe tbody tr th {\n",
       "        vertical-align: top;\n",
       "    }\n",
       "\n",
       "    .dataframe thead th {\n",
       "        text-align: right;\n",
       "    }\n",
       "</style>\n",
       "<table border=\"1\" class=\"dataframe\">\n",
       "  <thead>\n",
       "    <tr style=\"text-align: right;\">\n",
       "      <th></th>\n",
       "      <th>0</th>\n",
       "      <th>1</th>\n",
       "    </tr>\n",
       "  </thead>\n",
       "  <tbody>\n",
       "    <tr>\n",
       "      <th>0</th>\n",
       "      <td>1</td>\n",
       "      <td>[1.0000001, 0.0017785624, 0.11558835, 0.333323...</td>\n",
       "    </tr>\n",
       "    <tr>\n",
       "      <th>1</th>\n",
       "      <td>2</td>\n",
       "      <td>[0.0017785624, 1.0, 0.0024592949, 0.002959687,...</td>\n",
       "    </tr>\n",
       "    <tr>\n",
       "      <th>2</th>\n",
       "      <td>3</td>\n",
       "      <td>[0.11558835, 0.0024592949, 1.0, 0.04783988, 0....</td>\n",
       "    </tr>\n",
       "    <tr>\n",
       "      <th>3</th>\n",
       "      <td>4</td>\n",
       "      <td>[0.3333232, 0.002959687, 0.04783988, 1.0, 0.00...</td>\n",
       "    </tr>\n",
       "    <tr>\n",
       "      <th>4</th>\n",
       "      <td>5</td>\n",
       "      <td>[0.013954182, 0.12799355, 0.007930435, 0.00954...</td>\n",
       "    </tr>\n",
       "    <tr>\n",
       "      <th>...</th>\n",
       "      <td>...</td>\n",
       "      <td>...</td>\n",
       "    </tr>\n",
       "    <tr>\n",
       "      <th>531</th>\n",
       "      <td>532</td>\n",
       "      <td>[0.12392111, 0.0016378999, 0.2967598, 0.020259...</td>\n",
       "    </tr>\n",
       "    <tr>\n",
       "      <th>532</th>\n",
       "      <td>533</td>\n",
       "      <td>[0.0017090708, 0.0016938464, 0.002363206, 0.00...</td>\n",
       "    </tr>\n",
       "    <tr>\n",
       "      <th>533</th>\n",
       "      <td>534</td>\n",
       "      <td>[0.030211665, 0.0, 0.093179785, 0.014064255, 0...</td>\n",
       "    </tr>\n",
       "    <tr>\n",
       "      <th>534</th>\n",
       "      <td>535</td>\n",
       "      <td>[0.068171576, 0.0029544362, 0.0041219443, 0.00...</td>\n",
       "    </tr>\n",
       "    <tr>\n",
       "      <th>535</th>\n",
       "      <td>536</td>\n",
       "      <td>[0.01792346, 0.0020005573, 0.12498203, 0.01753...</td>\n",
       "    </tr>\n",
       "  </tbody>\n",
       "</table>\n",
       "<p>536 rows × 2 columns</p>\n",
       "</div>"
      ],
      "text/plain": [
       "       0                                                  1\n",
       "0      1  [1.0000001, 0.0017785624, 0.11558835, 0.333323...\n",
       "1      2  [0.0017785624, 1.0, 0.0024592949, 0.002959687,...\n",
       "2      3  [0.11558835, 0.0024592949, 1.0, 0.04783988, 0....\n",
       "3      4  [0.3333232, 0.002959687, 0.04783988, 1.0, 0.00...\n",
       "4      5  [0.013954182, 0.12799355, 0.007930435, 0.00954...\n",
       "..   ...                                                ...\n",
       "531  532  [0.12392111, 0.0016378999, 0.2967598, 0.020259...\n",
       "532  533  [0.0017090708, 0.0016938464, 0.002363206, 0.00...\n",
       "533  534  [0.030211665, 0.0, 0.093179785, 0.014064255, 0...\n",
       "534  535  [0.068171576, 0.0029544362, 0.0041219443, 0.00...\n",
       "535  536  [0.01792346, 0.0020005573, 0.12498203, 0.01753...\n",
       "\n",
       "[536 rows x 2 columns]"
      ]
     },
     "execution_count": 21,
     "metadata": {},
     "output_type": "execute_result"
    }
   ],
   "source": [
    "final_df"
   ]
  },
  {
   "cell_type": "code",
   "execution_count": 22,
   "metadata": {},
   "outputs": [],
   "source": [
    "df_basic['RECIPE_ID'] = df_basic.index+1\n",
    "recipe_name_df = df_basic[['RECIPE_ID','RECIPE_NM_KO']]\n",
    "final_df['RECIPE_ID'] = final_df.index+1\n",
    "\n",
    "recipe_tf_idf_df = final_df.merge(recipe_name_df,how='left', left_on='RECIPE_ID', right_on='RECIPE_ID')"
   ]
  },
  {
   "cell_type": "code",
   "execution_count": 23,
   "metadata": {},
   "outputs": [
    {
     "data": {
      "text/html": [
       "<div>\n",
       "<style scoped>\n",
       "    .dataframe tbody tr th:only-of-type {\n",
       "        vertical-align: middle;\n",
       "    }\n",
       "\n",
       "    .dataframe tbody tr th {\n",
       "        vertical-align: top;\n",
       "    }\n",
       "\n",
       "    .dataframe thead th {\n",
       "        text-align: right;\n",
       "    }\n",
       "</style>\n",
       "<table border=\"1\" class=\"dataframe\">\n",
       "  <thead>\n",
       "    <tr style=\"text-align: right;\">\n",
       "      <th></th>\n",
       "      <th>0</th>\n",
       "      <th>1</th>\n",
       "      <th>RECIPE_ID</th>\n",
       "      <th>RECIPE_NM_KO</th>\n",
       "    </tr>\n",
       "  </thead>\n",
       "  <tbody>\n",
       "    <tr>\n",
       "      <th>0</th>\n",
       "      <td>1</td>\n",
       "      <td>[1.0000001, 0.0017785624, 0.11558835, 0.333323...</td>\n",
       "      <td>1</td>\n",
       "      <td>나물비빔밥</td>\n",
       "    </tr>\n",
       "    <tr>\n",
       "      <th>1</th>\n",
       "      <td>2</td>\n",
       "      <td>[0.0017785624, 1.0, 0.0024592949, 0.002959687,...</td>\n",
       "      <td>2</td>\n",
       "      <td>오곡밥</td>\n",
       "    </tr>\n",
       "    <tr>\n",
       "      <th>2</th>\n",
       "      <td>3</td>\n",
       "      <td>[0.11558835, 0.0024592949, 1.0, 0.04783988, 0....</td>\n",
       "      <td>3</td>\n",
       "      <td>잡채밥</td>\n",
       "    </tr>\n",
       "    <tr>\n",
       "      <th>3</th>\n",
       "      <td>4</td>\n",
       "      <td>[0.3333232, 0.002959687, 0.04783988, 1.0, 0.00...</td>\n",
       "      <td>4</td>\n",
       "      <td>콩나물밥</td>\n",
       "    </tr>\n",
       "    <tr>\n",
       "      <th>4</th>\n",
       "      <td>5</td>\n",
       "      <td>[0.013954182, 0.12799355, 0.007930435, 0.00954...</td>\n",
       "      <td>5</td>\n",
       "      <td>약식</td>\n",
       "    </tr>\n",
       "    <tr>\n",
       "      <th>...</th>\n",
       "      <td>...</td>\n",
       "      <td>...</td>\n",
       "      <td>...</td>\n",
       "      <td>...</td>\n",
       "    </tr>\n",
       "    <tr>\n",
       "      <th>531</th>\n",
       "      <td>532</td>\n",
       "      <td>[0.12392111, 0.0016378999, 0.2967598, 0.020259...</td>\n",
       "      <td>532</td>\n",
       "      <td>배추만두</td>\n",
       "    </tr>\n",
       "    <tr>\n",
       "      <th>532</th>\n",
       "      <td>533</td>\n",
       "      <td>[0.0017090708, 0.0016938464, 0.002363206, 0.00...</td>\n",
       "      <td>533</td>\n",
       "      <td>식빵고구마파이</td>\n",
       "    </tr>\n",
       "    <tr>\n",
       "      <th>533</th>\n",
       "      <td>534</td>\n",
       "      <td>[0.030211665, 0.0, 0.093179785, 0.014064255, 0...</td>\n",
       "      <td>534</td>\n",
       "      <td>카레토마토달걀볶음밥</td>\n",
       "    </tr>\n",
       "    <tr>\n",
       "      <th>534</th>\n",
       "      <td>535</td>\n",
       "      <td>[0.068171576, 0.0029544362, 0.0041219443, 0.00...</td>\n",
       "      <td>535</td>\n",
       "      <td>쪽파 새우강회</td>\n",
       "    </tr>\n",
       "    <tr>\n",
       "      <th>535</th>\n",
       "      <td>536</td>\n",
       "      <td>[0.01792346, 0.0020005573, 0.12498203, 0.01753...</td>\n",
       "      <td>536</td>\n",
       "      <td>누드김밥</td>\n",
       "    </tr>\n",
       "  </tbody>\n",
       "</table>\n",
       "<p>536 rows × 4 columns</p>\n",
       "</div>"
      ],
      "text/plain": [
       "       0                                                  1  RECIPE_ID  \\\n",
       "0      1  [1.0000001, 0.0017785624, 0.11558835, 0.333323...          1   \n",
       "1      2  [0.0017785624, 1.0, 0.0024592949, 0.002959687,...          2   \n",
       "2      3  [0.11558835, 0.0024592949, 1.0, 0.04783988, 0....          3   \n",
       "3      4  [0.3333232, 0.002959687, 0.04783988, 1.0, 0.00...          4   \n",
       "4      5  [0.013954182, 0.12799355, 0.007930435, 0.00954...          5   \n",
       "..   ...                                                ...        ...   \n",
       "531  532  [0.12392111, 0.0016378999, 0.2967598, 0.020259...        532   \n",
       "532  533  [0.0017090708, 0.0016938464, 0.002363206, 0.00...        533   \n",
       "533  534  [0.030211665, 0.0, 0.093179785, 0.014064255, 0...        534   \n",
       "534  535  [0.068171576, 0.0029544362, 0.0041219443, 0.00...        535   \n",
       "535  536  [0.01792346, 0.0020005573, 0.12498203, 0.01753...        536   \n",
       "\n",
       "    RECIPE_NM_KO  \n",
       "0          나물비빔밥  \n",
       "1            오곡밥  \n",
       "2            잡채밥  \n",
       "3           콩나물밥  \n",
       "4             약식  \n",
       "..           ...  \n",
       "531         배추만두  \n",
       "532      식빵고구마파이  \n",
       "533   카레토마토달걀볶음밥  \n",
       "534      쪽파 새우강회  \n",
       "535         누드김밥  \n",
       "\n",
       "[536 rows x 4 columns]"
      ]
     },
     "execution_count": 23,
     "metadata": {},
     "output_type": "execute_result"
    }
   ],
   "source": [
    "recipe_tf_idf_df"
   ]
  },
  {
   "cell_type": "code",
   "execution_count": 24,
   "metadata": {},
   "outputs": [],
   "source": [
    "#Create a list from tfidf results\n",
    "#This will be used to identify ingredient importance within every recipe\n",
    "\n",
    "corpus_list = []\n",
    "for doc in corpus_tfidf:\n",
    "    corpus_list.append(doc)"
   ]
  },
  {
   "cell_type": "code",
   "execution_count": 25,
   "metadata": {},
   "outputs": [],
   "source": [
    "#Create a flat list to eliminate repetition of ingredients and create a dict to hold the results\n",
    "\n",
    "flat_list = []\n",
    "for sublist in ingr_list:\n",
    "    for item in sublist:\n",
    "        if item not in flat_list:\n",
    "            flat_list.append(item)\n",
    "ing_dict =  {k: v for k, v in enumerate(flat_list)}"
   ]
  },
  {
   "cell_type": "code",
   "execution_count": 26,
   "metadata": {},
   "outputs": [],
   "source": [
    "#Create a dataframe with tf-idf values per ingredient for every recipe.\n",
    "corpus_df = pd.DataFrame([])\n",
    "\n",
    "for i,list_item in enumerate(corpus_list):\n",
    "    for j,k in enumerate(list_item):\n",
    "        corpus_df = corpus_df.append(pd.DataFrame({'Ingredient': dictionary.get(corpus_list[i][j][0]),'TF-IDF Value': corpus_list[i][j][1],'Recipe_ID': i}, index=[0]), ignore_index=True)"
   ]
  },
  {
   "cell_type": "code",
   "execution_count": 38,
   "metadata": {
    "scrolled": true
   },
   "outputs": [],
   "source": [
    "df_basic['RECIPE_ID'] = df_basic.index\n",
    "recipe_tf_idf_df = corpus_df.merge(df_basic,how='left', left_on='Recipe_ID', right_on='RECIPE_ID')\n",
    "recipe_tf_idf_df = recipe_tf_idf_df[['Recipe_ID','RECIPE_NM_KO','Ingredient','TF-IDF Value']]\n",
    "tf_idf_sorting = recipe_tf_idf_df.sort_values(by=['Recipe_ID', 'Ingredient'], axis=0)\n",
    "tf_idf_sorting.to_csv('recipe_dataset/tf_idf_sorting.csv', encoding=\"utf-8-sig\")"
   ]
  },
  {
   "cell_type": "code",
   "execution_count": 41,
   "metadata": {},
   "outputs": [],
   "source": [
    "tf_idf_df = pd.read_csv('recipe_dataset/tf_idf_sorting.csv')"
   ]
  },
  {
   "cell_type": "code",
   "execution_count": 43,
   "metadata": {},
   "outputs": [],
   "source": [
    "tfidf_weight = pd.DataFrame(tf_idf_df['TF-IDF Value'].mul(tf_idf_df['SCORE'], axis=0, level=None, fill_value=None))"
   ]
  },
  {
   "cell_type": "code",
   "execution_count": 49,
   "metadata": {},
   "outputs": [],
   "source": [
    "tf_idf_df.insert(4, 'TF-IDF_WEIGHT',tfidf_weight)"
   ]
  },
  {
   "cell_type": "code",
   "execution_count": 50,
   "metadata": {},
   "outputs": [
    {
     "data": {
      "text/html": [
       "<div>\n",
       "<style scoped>\n",
       "    .dataframe tbody tr th:only-of-type {\n",
       "        vertical-align: middle;\n",
       "    }\n",
       "\n",
       "    .dataframe tbody tr th {\n",
       "        vertical-align: top;\n",
       "    }\n",
       "\n",
       "    .dataframe thead th {\n",
       "        text-align: right;\n",
       "    }\n",
       "</style>\n",
       "<table border=\"1\" class=\"dataframe\">\n",
       "  <thead>\n",
       "    <tr style=\"text-align: right;\">\n",
       "      <th></th>\n",
       "      <th>RECIPE_ID</th>\n",
       "      <th>RECIPE_NM_KO</th>\n",
       "      <th>Ingredient</th>\n",
       "      <th>TF-IDF Value</th>\n",
       "      <th>TF-IDF_WEIGHT</th>\n",
       "      <th>SCORE</th>\n",
       "    </tr>\n",
       "  </thead>\n",
       "  <tbody>\n",
       "    <tr>\n",
       "      <th>0</th>\n",
       "      <td>1</td>\n",
       "      <td>나물비빔밥</td>\n",
       "      <td>간장</td>\n",
       "      <td>0.067706</td>\n",
       "      <td>0.203117</td>\n",
       "      <td>3</td>\n",
       "    </tr>\n",
       "    <tr>\n",
       "      <th>1</th>\n",
       "      <td>1</td>\n",
       "      <td>나물비빔밥</td>\n",
       "      <td>계란</td>\n",
       "      <td>0.156383</td>\n",
       "      <td>0.156383</td>\n",
       "      <td>1</td>\n",
       "    </tr>\n",
       "    <tr>\n",
       "      <th>2</th>\n",
       "      <td>1</td>\n",
       "      <td>나물비빔밥</td>\n",
       "      <td>고사리</td>\n",
       "      <td>0.360205</td>\n",
       "      <td>1.801023</td>\n",
       "      <td>5</td>\n",
       "    </tr>\n",
       "    <tr>\n",
       "      <th>3</th>\n",
       "      <td>1</td>\n",
       "      <td>나물비빔밥</td>\n",
       "      <td>고추장</td>\n",
       "      <td>0.180763</td>\n",
       "      <td>0.903817</td>\n",
       "      <td>5</td>\n",
       "    </tr>\n",
       "    <tr>\n",
       "      <th>4</th>\n",
       "      <td>1</td>\n",
       "      <td>나물비빔밥</td>\n",
       "      <td>다진마늘</td>\n",
       "      <td>0.085699</td>\n",
       "      <td>0.171398</td>\n",
       "      <td>2</td>\n",
       "    </tr>\n",
       "    <tr>\n",
       "      <th>...</th>\n",
       "      <td>...</td>\n",
       "      <td>...</td>\n",
       "      <td>...</td>\n",
       "      <td>...</td>\n",
       "      <td>...</td>\n",
       "      <td>...</td>\n",
       "    </tr>\n",
       "    <tr>\n",
       "      <th>5557</th>\n",
       "      <td>537</td>\n",
       "      <td>콩비지동그랑땡</td>\n",
       "      <td>전분</td>\n",
       "      <td>0.421995</td>\n",
       "      <td>1.687980</td>\n",
       "      <td>4</td>\n",
       "    </tr>\n",
       "    <tr>\n",
       "      <th>5558</th>\n",
       "      <td>537</td>\n",
       "      <td>콩비지동그랑땡</td>\n",
       "      <td>참기름</td>\n",
       "      <td>0.085066</td>\n",
       "      <td>0.170131</td>\n",
       "      <td>2</td>\n",
       "    </tr>\n",
       "    <tr>\n",
       "      <th>5559</th>\n",
       "      <td>537</td>\n",
       "      <td>콩비지동그랑땡</td>\n",
       "      <td>콩비지</td>\n",
       "      <td>0.541392</td>\n",
       "      <td>2.706960</td>\n",
       "      <td>5</td>\n",
       "    </tr>\n",
       "    <tr>\n",
       "      <th>5560</th>\n",
       "      <td>537</td>\n",
       "      <td>콩비지동그랑땡</td>\n",
       "      <td>호박</td>\n",
       "      <td>0.283380</td>\n",
       "      <td>0.283380</td>\n",
       "      <td>1</td>\n",
       "    </tr>\n",
       "    <tr>\n",
       "      <th>5561</th>\n",
       "      <td>537</td>\n",
       "      <td>콩비지동그랑땡</td>\n",
       "      <td>후춧가루</td>\n",
       "      <td>0.080864</td>\n",
       "      <td>0.161727</td>\n",
       "      <td>2</td>\n",
       "    </tr>\n",
       "  </tbody>\n",
       "</table>\n",
       "<p>5562 rows × 6 columns</p>\n",
       "</div>"
      ],
      "text/plain": [
       "      RECIPE_ID RECIPE_NM_KO Ingredient  TF-IDF Value  TF-IDF_WEIGHT  SCORE\n",
       "0             1        나물비빔밥         간장      0.067706       0.203117      3\n",
       "1             1        나물비빔밥         계란      0.156383       0.156383      1\n",
       "2             1        나물비빔밥        고사리      0.360205       1.801023      5\n",
       "3             1        나물비빔밥        고추장      0.180763       0.903817      5\n",
       "4             1        나물비빔밥       다진마늘      0.085699       0.171398      2\n",
       "...         ...          ...        ...           ...            ...    ...\n",
       "5557        537      콩비지동그랑땡         전분      0.421995       1.687980      4\n",
       "5558        537      콩비지동그랑땡        참기름      0.085066       0.170131      2\n",
       "5559        537      콩비지동그랑땡        콩비지      0.541392       2.706960      5\n",
       "5560        537      콩비지동그랑땡         호박      0.283380       0.283380      1\n",
       "5561        537      콩비지동그랑땡       후춧가루      0.080864       0.161727      2\n",
       "\n",
       "[5562 rows x 6 columns]"
      ]
     },
     "execution_count": 50,
     "metadata": {},
     "output_type": "execute_result"
    }
   ],
   "source": [
    "tf_idf_df"
   ]
  },
  {
   "cell_type": "code",
   "execution_count": 51,
   "metadata": {},
   "outputs": [],
   "source": [
    "tf_idf_df.to_csv('tf_idf_df.csv', encoding=\"utf-8-sig\")"
   ]
  },
  {
   "cell_type": "code",
   "execution_count": null,
   "metadata": {},
   "outputs": [],
   "source": []
  }
 ],
 "metadata": {
  "kernelspec": {
   "display_name": "Python 3",
   "language": "python",
   "name": "python3"
  },
  "language_info": {
   "codemirror_mode": {
    "name": "ipython",
    "version": 3
   },
   "file_extension": ".py",
   "mimetype": "text/x-python",
   "name": "python",
   "nbconvert_exporter": "python",
   "pygments_lexer": "ipython3",
   "version": "3.8.5"
  }
 },
 "nbformat": 4,
 "nbformat_minor": 4
}
