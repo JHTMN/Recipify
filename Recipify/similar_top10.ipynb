{
 "cells": [
  {
   "cell_type": "code",
   "execution_count": 1,
   "metadata": {},
   "outputs": [],
   "source": [
    "##import all the required libraries\n",
    "import pandas as pd\n",
    "import numpy as np\n",
    "import os\n",
    "from collections import Counter\n",
    "from gensim.models import word2vec\n",
    "import sklearn\n",
    "from sklearn import manifold\n",
    "from sklearn.feature_extraction.text import TfidfVectorizer\n",
    "from gensim import corpora\n",
    "from gensim import models\n",
    "from gensim import similarities\n",
    "import heapq"
   ]
  },
  {
   "cell_type": "code",
   "execution_count": 3,
   "metadata": {},
   "outputs": [],
   "source": [
    "df_ingre = pd.read_csv('recipe_dataset/db/recipe_ingre.csv')\n",
    "df_basic = pd.read_csv('recipe_dataset/db/recipe_basic.csv', encoding=\"cp949\")\n",
    "\n",
    "df_tmp=df_ingre[['RECIPE_ID','IRDNT_NM']]\n",
    "df_tmp_arr=[[]for i in range(538)]\n",
    "num=0\n",
    "for i in df_tmp['IRDNT_NM'] :\n",
    "    df_tmp_arr[df_tmp['RECIPE_ID'][num]].append(i)\n",
    "    num+=1\n",
    "    \n",
    "df_tmp_arr.pop(0)\n",
    "num=0\n",
    "for i in df_tmp_arr :\n",
    "    df_tmp_arr[num] = list(set(df_tmp_arr[num]))\n",
    "    num+=1\n",
    "    \n",
    "ingre_dict = {}\n",
    "\n",
    "for i in range(1, 538, 1):\n",
    "    ingre_dict[str(i)] = df_tmp_arr[i-1]"
   ]
  },
  {
   "cell_type": "code",
   "execution_count": 4,
   "metadata": {
    "scrolled": true
   },
   "outputs": [],
   "source": [
    "bags_of_words = [ Counter(IRDNT_NM) for IRDNT_NM in df_tmp_arr ]"
   ]
  },
  {
   "cell_type": "code",
   "execution_count": 6,
   "metadata": {},
   "outputs": [],
   "source": [
    "#Find sum of every ingredient using Counter()\n",
    "sumbags = sum(bags_of_words, Counter())\n",
    "\n",
    "\n",
    "# Finally, plot the 10 most used ingredients\n",
    "clean_df = pd.DataFrame.from_dict(sumbags, orient='index').reset_index()\n",
    "clean_df = clean_df.rename(columns={'index':'IRDNT_NM', 0:'count'})\n",
    "\n",
    "top_ing = clean_df.sort_values('count', ascending=False)"
   ]
  },
  {
   "cell_type": "code",
   "execution_count": 7,
   "metadata": {},
   "outputs": [],
   "source": [
    "ingr_only_dict = clean_df['IRDNT_NM'].to_dict()"
   ]
  },
  {
   "cell_type": "code",
   "execution_count": 8,
   "metadata": {},
   "outputs": [],
   "source": [
    "#Get all clean ingredients in list format per recipe\n",
    "ingr_list = []\n",
    "for IRDNT_NM in df_tmp_arr:\n",
    "    ingr_list.append(IRDNT_NM)"
   ]
  },
  {
   "cell_type": "code",
   "execution_count": 10,
   "metadata": {},
   "outputs": [],
   "source": [
    "##Get clean ingredients to be used as an input for word2vec model to identify ingredient similarity.\n",
    "\n",
    "ingr_clean_df = pd.DataFrame({'IRDNT_NM':ingr_list})"
   ]
  },
  {
   "cell_type": "code",
   "execution_count": 12,
   "metadata": {},
   "outputs": [],
   "source": [
    "#Create a dictionary for all the ingredients in the recipe list\n",
    "\n",
    "dictionary = corpora.Dictionary(ingr_list)"
   ]
  },
  {
   "cell_type": "code",
   "execution_count": 13,
   "metadata": {},
   "outputs": [],
   "source": [
    "#Applying doc2bow on the dictionary of ingredients, which converts the ingredient to a number in every recipe\n",
    "#This input format is needed for TfIdfmodel\n",
    "bow_corpus = [dictionary.doc2bow(text) for text in ingr_list]"
   ]
  },
  {
   "cell_type": "code",
   "execution_count": 14,
   "metadata": {},
   "outputs": [],
   "source": [
    "# train the model\n",
    "tfidf = models.TfidfModel(bow_corpus)"
   ]
  },
  {
   "cell_type": "code",
   "execution_count": 15,
   "metadata": {},
   "outputs": [],
   "source": [
    "corpus_tfidf = tfidf[bow_corpus]"
   ]
  },
  {
   "cell_type": "code",
   "execution_count": 16,
   "metadata": {},
   "outputs": [],
   "source": [
    "#Use similarities library from gensim to get the cosine similarity of the tfidf results\n",
    "\n",
    "index = similarities.MatrixSimilarity(tfidf[bow_corpus])\n",
    "index.save('ingr.index')\n",
    "index = similarities.MatrixSimilarity.load('ingr.index')\n",
    "\n",
    "sims = index[corpus_tfidf]\n",
    "sims_list = [(i,j) for i,j in enumerate(sims)]\n",
    "\n",
    "#Creating a list to hold the cosine similarity results for tfidf\n",
    "tf_idf_list = []\n",
    "\n",
    "for i,j in enumerate(sims_list):\n",
    "    tf_idf_list.append(sims_list[i][1])"
   ]
  },
  {
   "cell_type": "code",
   "execution_count": 17,
   "metadata": {
    "scrolled": true
   },
   "outputs": [],
   "source": [
    "#Create recipe dict- to be used in creating dataframe in next step - used to decode recipe id\n",
    "recipe_dict = {k: v for k, v in enumerate(df_basic.RECIPE_NM_KO)}"
   ]
  },
  {
   "cell_type": "code",
   "execution_count": 18,
   "metadata": {},
   "outputs": [],
   "source": [
    "#Use cosine similarity results to get the top 10 similar recipes for every recipe.\n",
    "tf_idf_top  = []\n",
    "similar_recipes_df = pd.DataFrame([])\n",
    "same_item = []\n",
    "\n",
    "#Get only top 11 largest values from the tf_idf_list - 1 recipe will be the same as itself (hence 12)\n",
    "for i,item in enumerate(tf_idf_list):\n",
    "    tf_idf_top.append(heapq.nlargest(11,enumerate(item), key=lambda x: x[1]))\n",
    "\n",
    "#Remove the recipe value with 1.0 similarity - since it is the same recipe\n",
    "for i,list_item in enumerate(tf_idf_top):\n",
    "    for j,k in enumerate(list_item):\n",
    "        if tf_idf_top[i][j][1] != 1.0:\n",
    "            similar_recipes_df = similar_recipes_df.append(pd.DataFrame({'Similar_Recipe_ID': recipe_dict.get(tf_idf_top[i][j][0]),'TF-IDF Value': tf_idf_top[i][j][1],'Recipe_ID': recipe_dict.get(i)}, index=[0]), ignore_index=True)"
   ]
  },
  {
   "cell_type": "code",
   "execution_count": 19,
   "metadata": {},
   "outputs": [],
   "source": [
    "similar_recipes_df.to_csv('similar_recipes_top_10_tf_idf.csv',encoding='utf-8')"
   ]
  },
  {
   "cell_type": "code",
   "execution_count": 20,
   "metadata": {},
   "outputs": [],
   "source": [
    "similar_recipes_df = pd.read_csv('similar_recipes_top_10_tf_idf.csv')\n",
    "similar_recipes_df = similar_recipes_df[similar_recipes_df['Recipe_ID'] != similar_recipes_df['Similar_Recipe_ID']]"
   ]
  },
  {
   "cell_type": "code",
   "execution_count": 21,
   "metadata": {},
   "outputs": [
    {
     "data": {
      "text/html": [
       "<div>\n",
       "<style scoped>\n",
       "    .dataframe tbody tr th:only-of-type {\n",
       "        vertical-align: middle;\n",
       "    }\n",
       "\n",
       "    .dataframe tbody tr th {\n",
       "        vertical-align: top;\n",
       "    }\n",
       "\n",
       "    .dataframe thead th {\n",
       "        text-align: right;\n",
       "    }\n",
       "</style>\n",
       "<table border=\"1\" class=\"dataframe\">\n",
       "  <thead>\n",
       "    <tr style=\"text-align: right;\">\n",
       "      <th></th>\n",
       "      <th>Unnamed: 0</th>\n",
       "      <th>Similar_Recipe_ID</th>\n",
       "      <th>TF-IDF Value</th>\n",
       "      <th>Recipe_ID</th>\n",
       "    </tr>\n",
       "  </thead>\n",
       "  <tbody>\n",
       "    <tr>\n",
       "      <th>1</th>\n",
       "      <td>1</td>\n",
       "      <td>상추겉절이비빔밥</td>\n",
       "      <td>0.459678</td>\n",
       "      <td>나물비빔밥</td>\n",
       "    </tr>\n",
       "    <tr>\n",
       "      <th>2</th>\n",
       "      <td>2</td>\n",
       "      <td>사색나물</td>\n",
       "      <td>0.451160</td>\n",
       "      <td>나물비빔밥</td>\n",
       "    </tr>\n",
       "    <tr>\n",
       "      <th>3</th>\n",
       "      <td>3</td>\n",
       "      <td>돌솥비빔밥</td>\n",
       "      <td>0.417394</td>\n",
       "      <td>나물비빔밥</td>\n",
       "    </tr>\n",
       "    <tr>\n",
       "      <th>4</th>\n",
       "      <td>4</td>\n",
       "      <td>콩나물잡채</td>\n",
       "      <td>0.390625</td>\n",
       "      <td>나물비빔밥</td>\n",
       "    </tr>\n",
       "    <tr>\n",
       "      <th>5</th>\n",
       "      <td>5</td>\n",
       "      <td>묵과양념장</td>\n",
       "      <td>0.387687</td>\n",
       "      <td>나물비빔밥</td>\n",
       "    </tr>\n",
       "    <tr>\n",
       "      <th>...</th>\n",
       "      <td>...</td>\n",
       "      <td>...</td>\n",
       "      <td>...</td>\n",
       "      <td>...</td>\n",
       "    </tr>\n",
       "    <tr>\n",
       "      <th>5486</th>\n",
       "      <td>5486</td>\n",
       "      <td>잡채밥</td>\n",
       "      <td>0.212544</td>\n",
       "      <td>콩비지동그랑땡</td>\n",
       "    </tr>\n",
       "    <tr>\n",
       "      <th>5487</th>\n",
       "      <td>5487</td>\n",
       "      <td>배추속댓국</td>\n",
       "      <td>0.207736</td>\n",
       "      <td>콩비지동그랑땡</td>\n",
       "    </tr>\n",
       "    <tr>\n",
       "      <th>5488</th>\n",
       "      <td>5488</td>\n",
       "      <td>중국식볶음밥</td>\n",
       "      <td>0.195908</td>\n",
       "      <td>콩비지동그랑땡</td>\n",
       "    </tr>\n",
       "    <tr>\n",
       "      <th>5489</th>\n",
       "      <td>5489</td>\n",
       "      <td>제육배추찜</td>\n",
       "      <td>0.189969</td>\n",
       "      <td>콩비지동그랑땡</td>\n",
       "    </tr>\n",
       "    <tr>\n",
       "      <th>5490</th>\n",
       "      <td>5490</td>\n",
       "      <td>꽃만두국(완당국)</td>\n",
       "      <td>0.187891</td>\n",
       "      <td>콩비지동그랑땡</td>\n",
       "    </tr>\n",
       "  </tbody>\n",
       "</table>\n",
       "<p>5370 rows × 4 columns</p>\n",
       "</div>"
      ],
      "text/plain": [
       "      Unnamed: 0 Similar_Recipe_ID  TF-IDF Value Recipe_ID\n",
       "1              1          상추겉절이비빔밥      0.459678     나물비빔밥\n",
       "2              2              사색나물      0.451160     나물비빔밥\n",
       "3              3             돌솥비빔밥      0.417394     나물비빔밥\n",
       "4              4             콩나물잡채      0.390625     나물비빔밥\n",
       "5              5             묵과양념장      0.387687     나물비빔밥\n",
       "...          ...               ...           ...       ...\n",
       "5486        5486               잡채밥      0.212544   콩비지동그랑땡\n",
       "5487        5487             배추속댓국      0.207736   콩비지동그랑땡\n",
       "5488        5488            중국식볶음밥      0.195908   콩비지동그랑땡\n",
       "5489        5489             제육배추찜      0.189969   콩비지동그랑땡\n",
       "5490        5490         꽃만두국(완당국)      0.187891   콩비지동그랑땡\n",
       "\n",
       "[5370 rows x 4 columns]"
      ]
     },
     "execution_count": 21,
     "metadata": {},
     "output_type": "execute_result"
    }
   ],
   "source": [
    "similar_recipes_df"
   ]
  },
  {
   "cell_type": "code",
   "execution_count": 22,
   "metadata": {
    "scrolled": true
   },
   "outputs": [],
   "source": [
    "similar_recipes_df = similar_recipes_df[similar_recipes_df['Recipe_ID'] != similar_recipes_df['Similar_Recipe_ID']]"
   ]
  },
  {
   "cell_type": "code",
   "execution_count": 23,
   "metadata": {},
   "outputs": [],
   "source": [
    "#Create cosine similarity matrix for all recipes 27637*27637\n",
    "#Since this is a huge matrix, the top 10 similar recipe logic is a better option.\n",
    "\n",
    "names = [i for i in range(1,len(tf_idf_list))]\n",
    "final_df = pd.DataFrame.from_dict(zip(names,tf_idf_list))"
   ]
  },
  {
   "cell_type": "code",
   "execution_count": 24,
   "metadata": {},
   "outputs": [],
   "source": [
    "df_basic['RECIPE_ID'] = df_basic.index+1\n",
    "recipe_name_df = df_basic[['RECIPE_ID','RECIPE_NM_KO']]\n",
    "final_df['RECIPE_ID'] = final_df.index+1\n",
    "\n",
    "recipe_tf_idf_df = final_df.merge(recipe_name_df,how='left', left_on='RECIPE_ID', right_on='RECIPE_ID')"
   ]
  },
  {
   "cell_type": "code",
   "execution_count": 25,
   "metadata": {},
   "outputs": [],
   "source": [
    "#Create a list from tfidf results\n",
    "#This will be used to identify ingredient importance within every recipe\n",
    "\n",
    "corpus_list = []\n",
    "for doc in corpus_tfidf:\n",
    "    corpus_list.append(doc)"
   ]
  },
  {
   "cell_type": "code",
   "execution_count": 26,
   "metadata": {},
   "outputs": [],
   "source": [
    "#Create a flat list to eliminate repetition of ingredients and create a dict to hold the results\n",
    "\n",
    "flat_list = []\n",
    "for sublist in ingr_list:\n",
    "    for item in sublist:\n",
    "        if item not in flat_list:\n",
    "            flat_list.append(item)\n",
    "ing_dict =  {k: v for k, v in enumerate(flat_list)}"
   ]
  },
  {
   "cell_type": "code",
   "execution_count": 27,
   "metadata": {},
   "outputs": [],
   "source": [
    "#Create a dataframe with tf-idf values per ingredient for every recipe.\n",
    "corpus_df = pd.DataFrame([])\n",
    "\n",
    "for i,list_item in enumerate(corpus_list):\n",
    "    for j,k in enumerate(list_item):\n",
    "        corpus_df = corpus_df.append(pd.DataFrame({'IRDNT_NM': dictionary.get(corpus_list[i][j][0]),'TF-IDF Value': corpus_list[i][j][1],'Recipe_ID': i}, index=[0]), ignore_index=True)"
   ]
  },
  {
   "cell_type": "code",
   "execution_count": 28,
   "metadata": {},
   "outputs": [
    {
     "ename": "KeyError",
     "evalue": "\"['IRDNT_NM'] not in index\"",
     "output_type": "error",
     "traceback": [
      "\u001b[1;31m---------------------------------------------------------------------------\u001b[0m",
      "\u001b[1;31mKeyError\u001b[0m                                  Traceback (most recent call last)",
      "\u001b[1;32m<ipython-input-28-5c4e31ea05ac>\u001b[0m in \u001b[0;36m<module>\u001b[1;34m\u001b[0m\n\u001b[0;32m      1\u001b[0m \u001b[0mdf_basic\u001b[0m\u001b[1;33m[\u001b[0m\u001b[1;34m'RECIPE_ID'\u001b[0m\u001b[1;33m]\u001b[0m \u001b[1;33m=\u001b[0m \u001b[0mdf_basic\u001b[0m\u001b[1;33m.\u001b[0m\u001b[0mindex\u001b[0m\u001b[1;33m\u001b[0m\u001b[1;33m\u001b[0m\u001b[0m\n\u001b[0;32m      2\u001b[0m \u001b[0mrecipe_tf_idf_df\u001b[0m \u001b[1;33m=\u001b[0m \u001b[0mcorpus_df\u001b[0m\u001b[1;33m.\u001b[0m\u001b[0mmerge\u001b[0m\u001b[1;33m(\u001b[0m\u001b[0mdf_basic\u001b[0m\u001b[1;33m,\u001b[0m\u001b[0mhow\u001b[0m\u001b[1;33m=\u001b[0m\u001b[1;34m'left'\u001b[0m\u001b[1;33m,\u001b[0m \u001b[0mleft_on\u001b[0m\u001b[1;33m=\u001b[0m\u001b[1;34m'Recipe_ID'\u001b[0m\u001b[1;33m,\u001b[0m \u001b[0mright_on\u001b[0m\u001b[1;33m=\u001b[0m\u001b[1;34m'RECIPE_ID'\u001b[0m\u001b[1;33m)\u001b[0m\u001b[1;33m\u001b[0m\u001b[1;33m\u001b[0m\u001b[0m\n\u001b[1;32m----> 3\u001b[1;33m \u001b[0mrecipe_tf_idf_df\u001b[0m \u001b[1;33m=\u001b[0m \u001b[0mrecipe_tf_idf_df\u001b[0m\u001b[1;33m[\u001b[0m\u001b[1;33m[\u001b[0m\u001b[1;34m'Recipe_ID'\u001b[0m\u001b[1;33m,\u001b[0m\u001b[1;34m'RECIPE_NM_KO'\u001b[0m\u001b[1;33m,\u001b[0m\u001b[1;34m'IRDNT_NM'\u001b[0m\u001b[1;33m,\u001b[0m\u001b[1;34m'TF-IDF Value'\u001b[0m\u001b[1;33m]\u001b[0m\u001b[1;33m]\u001b[0m\u001b[1;33m\u001b[0m\u001b[1;33m\u001b[0m\u001b[0m\n\u001b[0m\u001b[0;32m      4\u001b[0m \u001b[0mtf_idf_sorting\u001b[0m \u001b[1;33m=\u001b[0m \u001b[0mrecipe_tf_idf_df\u001b[0m\u001b[1;33m.\u001b[0m\u001b[0msort_values\u001b[0m\u001b[1;33m(\u001b[0m\u001b[0mby\u001b[0m\u001b[1;33m=\u001b[0m\u001b[1;33m[\u001b[0m\u001b[1;34m'Recipe_ID'\u001b[0m\u001b[1;33m,\u001b[0m \u001b[1;34m'IRDNT_NM'\u001b[0m\u001b[1;33m]\u001b[0m\u001b[1;33m,\u001b[0m \u001b[0maxis\u001b[0m\u001b[1;33m=\u001b[0m\u001b[1;36m0\u001b[0m\u001b[1;33m)\u001b[0m\u001b[1;33m\u001b[0m\u001b[1;33m\u001b[0m\u001b[0m\n\u001b[0;32m      5\u001b[0m \u001b[0mtf_idf_sorting\u001b[0m\u001b[1;33m.\u001b[0m\u001b[0mset_index\u001b[0m\u001b[1;33m(\u001b[0m\u001b[1;34m'Recipe_ID'\u001b[0m\u001b[1;33m,\u001b[0m \u001b[0minplace\u001b[0m\u001b[1;33m=\u001b[0m\u001b[1;32mTrue\u001b[0m\u001b[1;33m)\u001b[0m\u001b[1;33m\u001b[0m\u001b[1;33m\u001b[0m\u001b[0m\n",
      "\u001b[1;32mC:\\User\\lib\\site-packages\\pandas\\core\\frame.py\u001b[0m in \u001b[0;36m__getitem__\u001b[1;34m(self, key)\u001b[0m\n\u001b[0;32m   2906\u001b[0m             \u001b[1;32mif\u001b[0m \u001b[0mis_iterator\u001b[0m\u001b[1;33m(\u001b[0m\u001b[0mkey\u001b[0m\u001b[1;33m)\u001b[0m\u001b[1;33m:\u001b[0m\u001b[1;33m\u001b[0m\u001b[1;33m\u001b[0m\u001b[0m\n\u001b[0;32m   2907\u001b[0m                 \u001b[0mkey\u001b[0m \u001b[1;33m=\u001b[0m \u001b[0mlist\u001b[0m\u001b[1;33m(\u001b[0m\u001b[0mkey\u001b[0m\u001b[1;33m)\u001b[0m\u001b[1;33m\u001b[0m\u001b[1;33m\u001b[0m\u001b[0m\n\u001b[1;32m-> 2908\u001b[1;33m             \u001b[0mindexer\u001b[0m \u001b[1;33m=\u001b[0m \u001b[0mself\u001b[0m\u001b[1;33m.\u001b[0m\u001b[0mloc\u001b[0m\u001b[1;33m.\u001b[0m\u001b[0m_get_listlike_indexer\u001b[0m\u001b[1;33m(\u001b[0m\u001b[0mkey\u001b[0m\u001b[1;33m,\u001b[0m \u001b[0maxis\u001b[0m\u001b[1;33m=\u001b[0m\u001b[1;36m1\u001b[0m\u001b[1;33m,\u001b[0m \u001b[0mraise_missing\u001b[0m\u001b[1;33m=\u001b[0m\u001b[1;32mTrue\u001b[0m\u001b[1;33m)\u001b[0m\u001b[1;33m[\u001b[0m\u001b[1;36m1\u001b[0m\u001b[1;33m]\u001b[0m\u001b[1;33m\u001b[0m\u001b[1;33m\u001b[0m\u001b[0m\n\u001b[0m\u001b[0;32m   2909\u001b[0m \u001b[1;33m\u001b[0m\u001b[0m\n\u001b[0;32m   2910\u001b[0m         \u001b[1;31m# take() does not accept boolean indexers\u001b[0m\u001b[1;33m\u001b[0m\u001b[1;33m\u001b[0m\u001b[1;33m\u001b[0m\u001b[0m\n",
      "\u001b[1;32mC:\\User\\lib\\site-packages\\pandas\\core\\indexing.py\u001b[0m in \u001b[0;36m_get_listlike_indexer\u001b[1;34m(self, key, axis, raise_missing)\u001b[0m\n\u001b[0;32m   1252\u001b[0m             \u001b[0mkeyarr\u001b[0m\u001b[1;33m,\u001b[0m \u001b[0mindexer\u001b[0m\u001b[1;33m,\u001b[0m \u001b[0mnew_indexer\u001b[0m \u001b[1;33m=\u001b[0m \u001b[0max\u001b[0m\u001b[1;33m.\u001b[0m\u001b[0m_reindex_non_unique\u001b[0m\u001b[1;33m(\u001b[0m\u001b[0mkeyarr\u001b[0m\u001b[1;33m)\u001b[0m\u001b[1;33m\u001b[0m\u001b[1;33m\u001b[0m\u001b[0m\n\u001b[0;32m   1253\u001b[0m \u001b[1;33m\u001b[0m\u001b[0m\n\u001b[1;32m-> 1254\u001b[1;33m         \u001b[0mself\u001b[0m\u001b[1;33m.\u001b[0m\u001b[0m_validate_read_indexer\u001b[0m\u001b[1;33m(\u001b[0m\u001b[0mkeyarr\u001b[0m\u001b[1;33m,\u001b[0m \u001b[0mindexer\u001b[0m\u001b[1;33m,\u001b[0m \u001b[0maxis\u001b[0m\u001b[1;33m,\u001b[0m \u001b[0mraise_missing\u001b[0m\u001b[1;33m=\u001b[0m\u001b[0mraise_missing\u001b[0m\u001b[1;33m)\u001b[0m\u001b[1;33m\u001b[0m\u001b[1;33m\u001b[0m\u001b[0m\n\u001b[0m\u001b[0;32m   1255\u001b[0m         \u001b[1;32mreturn\u001b[0m \u001b[0mkeyarr\u001b[0m\u001b[1;33m,\u001b[0m \u001b[0mindexer\u001b[0m\u001b[1;33m\u001b[0m\u001b[1;33m\u001b[0m\u001b[0m\n\u001b[0;32m   1256\u001b[0m \u001b[1;33m\u001b[0m\u001b[0m\n",
      "\u001b[1;32mC:\\User\\lib\\site-packages\\pandas\\core\\indexing.py\u001b[0m in \u001b[0;36m_validate_read_indexer\u001b[1;34m(self, key, indexer, axis, raise_missing)\u001b[0m\n\u001b[0;32m   1302\u001b[0m             \u001b[1;32mif\u001b[0m \u001b[0mraise_missing\u001b[0m\u001b[1;33m:\u001b[0m\u001b[1;33m\u001b[0m\u001b[1;33m\u001b[0m\u001b[0m\n\u001b[0;32m   1303\u001b[0m                 \u001b[0mnot_found\u001b[0m \u001b[1;33m=\u001b[0m \u001b[0mlist\u001b[0m\u001b[1;33m(\u001b[0m\u001b[0mset\u001b[0m\u001b[1;33m(\u001b[0m\u001b[0mkey\u001b[0m\u001b[1;33m)\u001b[0m \u001b[1;33m-\u001b[0m \u001b[0mset\u001b[0m\u001b[1;33m(\u001b[0m\u001b[0max\u001b[0m\u001b[1;33m)\u001b[0m\u001b[1;33m)\u001b[0m\u001b[1;33m\u001b[0m\u001b[1;33m\u001b[0m\u001b[0m\n\u001b[1;32m-> 1304\u001b[1;33m                 \u001b[1;32mraise\u001b[0m \u001b[0mKeyError\u001b[0m\u001b[1;33m(\u001b[0m\u001b[1;34mf\"{not_found} not in index\"\u001b[0m\u001b[1;33m)\u001b[0m\u001b[1;33m\u001b[0m\u001b[1;33m\u001b[0m\u001b[0m\n\u001b[0m\u001b[0;32m   1305\u001b[0m \u001b[1;33m\u001b[0m\u001b[0m\n\u001b[0;32m   1306\u001b[0m             \u001b[1;31m# we skip the warning on Categorical\u001b[0m\u001b[1;33m\u001b[0m\u001b[1;33m\u001b[0m\u001b[1;33m\u001b[0m\u001b[0m\n",
      "\u001b[1;31mKeyError\u001b[0m: \"['IRDNT_NM'] not in index\""
     ]
    }
   ],
   "source": [
    "df_basic['RECIPE_ID'] = df_basic.index\n",
    "recipe_tf_idf_df = corpus_df.merge(df_basic,how='left', left_on='Recipe_ID', right_on='RECIPE_ID')\n",
    "recipe_tf_idf_df = recipe_tf_idf_df[['Recipe_ID','RECIPE_NM_KO','IRDNT_NM','TF-IDF Value']]\n",
    "tf_idf_sorting = recipe_tf_idf_df.sort_values(by=['Recipe_ID', 'IRDNT_NM'], axis=0)\n",
    "tf_idf_sorting.set_index('Recipe_ID', inplace=True)\n",
    "tf_idf_sorting.index = tf_idf_sorting.index+1\n",
    "tf_idf_sorting.reset_index(inplace=True)\n",
    "# tf_idf_sorting.to_csv('recipe_dataset/tf_idf_sorting.csv', encoding=\"utf-8-sig\")"
   ]
  },
  {
   "cell_type": "code",
   "execution_count": null,
   "metadata": {},
   "outputs": [],
   "source": [
    "tf_idf_df = pd.read_csv('recipe_dataset/tf_idf_sorting.csv')\n",
    "tf_idf_df = tf_idf_df.drop(['Unnamed: 0'], axis = 1)\n",
    "tf_idf_df = pd.concat([tf_idf_df, df_ingre[\"SCORE\"]], axis = 1)\n",
    "tfidf_weight = pd.DataFrame(tf_idf_df['TF-IDF Value'].mul(tf_idf_df['SCORE'], axis=0, level=None, fill_value=None))\n",
    "tf_idf_df.insert(3, 'TF-IDF_WEIGHT',tfidf_weight)\n",
    "tf_idf_df"
   ]
  },
  {
   "cell_type": "code",
   "execution_count": null,
   "metadata": {},
   "outputs": [],
   "source": [
    "# tf_idf_df.to_csv('tf_idf_df.csv', encoding=\"utf-8-sig\")"
   ]
  },
  {
   "cell_type": "code",
   "execution_count": null,
   "metadata": {},
   "outputs": [],
   "source": [
    "train_df, test_df = train_test_split(ratings_df, test_size=0.2, random_state=1234)"
   ]
  },
  {
   "cell_type": "code",
   "execution_count": null,
   "metadata": {},
   "outputs": [],
   "source": []
  }
 ],
 "metadata": {
  "kernelspec": {
   "display_name": "Python 3",
   "language": "python",
   "name": "python3"
  },
  "language_info": {
   "codemirror_mode": {
    "name": "ipython",
    "version": 3
   },
   "file_extension": ".py",
   "mimetype": "text/x-python",
   "name": "python",
   "nbconvert_exporter": "python",
   "pygments_lexer": "ipython3",
   "version": "3.8.5"
  }
 },
 "nbformat": 4,
 "nbformat_minor": 4
}
