{
 "cells": [
  {
   "cell_type": "code",
   "execution_count": 1,
   "metadata": {},
   "outputs": [],
   "source": [
    "import pandas as pd\n",
    "import json"
   ]
  },
  {
   "cell_type": "code",
   "execution_count": 2,
   "metadata": {},
   "outputs": [],
   "source": [
    "user_input = [\"간장\", \"후춧가루\", \"밥\", \"아귀\", \"콩나물\", \"두부\", \"고춧가루\", \"소금\", \"계란\"]"
   ]
  },
  {
   "cell_type": "code",
   "execution_count": 6,
   "metadata": {},
   "outputs": [],
   "source": [
    "def recmd_menu(user_input_list):\n",
    "    first_df = pd.read_csv(\"tf_idf_df.csv\")\n",
    "    \n",
    "    result_dict = {\"Menu\": [],\n",
    "                   \"Score\": [],\n",
    "                   \"Same_Ingre\": [],\n",
    "                   \"Same_Ingre_len\": []}\n",
    "\n",
    "    for idx in range(537):\n",
    "        max_menu = \"\"\n",
    "        max_score = 0\n",
    "        max_list = []\n",
    "\n",
    "        for menu in first_df[\"RECIPE_NM_KO\"].drop_duplicates():\n",
    "            each_score = 0\n",
    "            avg = 0\n",
    "            same_list = []\n",
    "\n",
    "            target_df = first_df[first_df[\"RECIPE_NM_KO\"] == menu].reset_index(drop = True)\n",
    "            target_df_sum = target_df[\"SCORE\"].sum()\n",
    "            must_list = list(target_df[target_df[\"SCORE\"] == 5][\"Ingredient\"])\n",
    "\n",
    "            check_bool = True\n",
    "\n",
    "            for must in must_list:\n",
    "                chk_bool = must in user_input\n",
    "                check_bool = check_bool and chk_bool\n",
    "\n",
    "            if not check_bool:\n",
    "                continue\n",
    "\n",
    "            for i, compare in enumerate(target_df[\"Ingredient\"]):\n",
    "                for user_v in user_input_list:\n",
    "                    if compare == user_v:\n",
    "                        each_score = each_score + target_df[\"SCORE\"][i]\n",
    "                        same_list.append(user_v)\n",
    "                        break\n",
    "\n",
    "            avg = each_score / target_df_sum\n",
    "\n",
    "            if max_score < avg:\n",
    "                max_score = avg\n",
    "                max_menu = menu\n",
    "                max_list = same_list\n",
    "\n",
    "        if max_menu == \"\":\n",
    "            break\n",
    "\n",
    "        result_dict[\"Menu\"].append(max_menu)\n",
    "        result_dict[\"Score\"].append(round(max_score * 100, 2))\n",
    "        result_dict[\"Same_Ingre\"].append(max_list)\n",
    "        result_dict[\"Same_Ingre_len\"].append(len(max_list))\n",
    "\n",
    "        drop_index = first_df[first_df[\"RECIPE_NM_KO\"] == max_menu].index\n",
    "        first_df = first_df.drop(drop_index).reset_index(drop=True)\n",
    "        result_df = pd.DataFrame(result_dict).sort_values(by=['Same_Ingre_len', 'Score'], ascending=False).reset_index(drop=True)\n",
    "        final_dict = result_df.to_dict('index')\n",
    "        final_json = json.dumps(final_dict, ensure_ascii=False)\n",
    "        \n",
    "    return final_json"
   ]
  },
  {
   "cell_type": "code",
   "execution_count": null,
   "metadata": {},
   "outputs": [],
   "source": []
  }
 ],
 "metadata": {
  "kernelspec": {
   "display_name": "Python 3",
   "language": "python",
   "name": "python3"
  },
  "language_info": {
   "codemirror_mode": {
    "name": "ipython",
    "version": 3
   },
   "file_extension": ".py",
   "mimetype": "text/x-python",
   "name": "python",
   "nbconvert_exporter": "python",
   "pygments_lexer": "ipython3",
   "version": "3.8.5"
  }
 },
 "nbformat": 4,
 "nbformat_minor": 4
}
